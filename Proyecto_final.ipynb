{
 "cells": [
  {
   "cell_type": "markdown",
   "metadata": {},
   "source": [
    "\n",
    "<img src=\"img/Logotipo_Colegio_Administradores.png\" alt=\"Logo\" width=\"600px\" height=\"auto\" />\n"
   ]
  },
  {
   "cell_type": "markdown",
   "metadata": {},
   "source": [
    "# Introduction\n",
    "\n",
    "In this project, we will collaborate with diverse teams, including UX and Full-Stack, to create a web app for the Colegio de Administradores de Valencia in Valencia. The primary objective is to facilitate seamless information sharing, fostering connections between administrators and neighbors for the benefit of the entire community. They depend on us to address specific needs, and they also welcome additional improvements that we will consider along the way. "
   ]
  },
  {
   "cell_type": "markdown",
   "metadata": {},
   "source": [
    "# Table of Contents\n",
    "\n",
    "\n",
    "1. [Chapter 1 - Defining the Problem](#ch3)\n",
    "\n",
    "2. [Chapter 2 - Designing the functions and testing](#ch4)\n",
    "\n",
    "3. [Chapter 3 - Creating the app in Flask](#ch5)\n",
    "\n",
    "4. [Chapter 4 - Deploying the app in FL0 and documenting the API](#ch6)\n",
    "\n",
    "5. [Credits](#ch91)\n"
   ]
  },
  {
   "cell_type": "markdown",
   "metadata": {},
   "source": [
    "<a id=\"ch3\"></a>\n",
    "## 1. Defining the Problem\n",
    "\n"
   ]
  },
  {
   "cell_type": "markdown",
   "metadata": {},
   "source": [
    "As the data science team, our assigned task is to create a calculator. This tool will be used to estimate the amount of money neighbors will pay in the next years for future expenses."
   ]
  },
  {
   "cell_type": "markdown",
   "metadata": {},
   "source": []
  },
  {
   "cell_type": "markdown",
   "metadata": {},
   "source": []
  },
  {
   "cell_type": "markdown",
   "metadata": {},
   "source": [
    "<a id=\"ch4\"></a>\n",
    "## 2. Designing the functions and testing\n",
    "\n",
    "\n",
    "### 2.1 Import Libraries"
   ]
  },
  {
   "cell_type": "markdown",
   "metadata": {},
   "source": []
  },
  {
   "cell_type": "code",
   "execution_count": 1,
   "metadata": {},
   "outputs": [
    {
     "ename": "ModuleNotFoundError",
     "evalue": "No module named 'flask'",
     "output_type": "error",
     "traceback": [
      "\u001b[1;31m---------------------------------------------------------------------------\u001b[0m",
      "\u001b[1;31mModuleNotFoundError\u001b[0m                       Traceback (most recent call last)",
      "Cell \u001b[1;32mIn[1], line 1\u001b[0m\n\u001b[1;32m----> 1\u001b[0m \u001b[38;5;28;01mfrom\u001b[39;00m \u001b[38;5;21;01mflask\u001b[39;00m \u001b[38;5;28;01mimport\u001b[39;00m Flask, request, jsonify\n\u001b[0;32m      2\u001b[0m \u001b[38;5;28;01mimport\u001b[39;00m \u001b[38;5;21;01mmath\u001b[39;00m\n",
      "\u001b[1;31mModuleNotFoundError\u001b[0m: No module named 'flask'"
     ]
    }
   ],
   "source": [
    "from flask import Flask, request, jsonify\n",
    "import math\n"
   ]
  },
  {
   "cell_type": "markdown",
   "metadata": {},
   "source": [
    "### 2.2 Building the functions"
   ]
  },
  {
   "cell_type": "code",
   "execution_count": null,
   "metadata": {},
   "outputs": [],
   "source": [
    "def calculo_prev(*tuplas, n_propie, cuota):\n",
    "\n",
    "    tuplas = sorted(tuplas, key=lambda x: x[0])\n",
    "\n",
    "    variables = [[] for _ in range(len(tuplas))]\n",
    "\n",
    "    # Itera sobre los elementos de las tuplas\n",
    "    for i in range(len(tuplas[0])):\n",
    "        valores = [t[i] for t in tuplas]\n",
    "\n",
    "        for j, valor in enumerate(valores):\n",
    "            variables[j].append(valor)\n",
    "\n",
    "    #Obtencion de meses maximo\n",
    "    total_meses = 0\n",
    "    suple_var = 0\n",
    "    periodos = []\n",
    "    for var in variables:\n",
    "        periodos.append(var[0])\n",
    "        if var[0] > total_meses:\n",
    "            total_meses = var[0]\n",
    "    \n",
    "    \n",
    "    #Cuota por meses\n",
    "    gasto_x_mes = []\n",
    "    for i in range(total_meses):\n",
    "        for var in variables:\n",
    "            if i < var[0]:\n",
    "                spl = round((var[1]/var[0])/n_propie, 2)\n",
    "                suple_var += spl\n",
    "        gasto_x_mes.append(suple_var)\n",
    "        suple_var = 0\n",
    "    \n",
    "    #Resultado\n",
    "    cuotas_total = []\n",
    "    \n",
    "    for i in periodos:\n",
    "        cuotas_total.append(math.ceil(gasto_x_mes[i -1] + cuota))\n",
    "\n",
    "    return cuotas_total"
   ]
  },
  {
   "cell_type": "code",
   "execution_count": null,
   "metadata": {},
   "outputs": [],
   "source": [
    "def calculadora_prevision():\n",
    "\n",
    "    data = request.json\n",
    "\n",
    "    tuplas = [(item['meses'], item['monto']) for item in data.get('tuplas', [])]\n",
    "    n_propie = int(data['n_propietarios'])\n",
    "    cuota = int(data['cuota'])\n",
    "\n",
    "    output = calculo_prev(*tuplas, n_propie=n_propie, cuota=cuota)\n",
    "\n",
    "    return jsonify({'Nueva/s cuota/s': output})"
   ]
  },
  {
   "cell_type": "markdown",
   "metadata": {},
   "source": [
    "<a id=\"ch4\"></a>\n",
    "## 3. Creating the app in Flask"
   ]
  },
  {
   "cell_type": "code",
   "execution_count": null,
   "metadata": {},
   "outputs": [],
   "source": [
    "from flask import Flask, request, jsonify\n",
    "import math\n",
    "\n",
    "def calculo_prev(*tuplas, n_propie, cuota):\n",
    "\n",
    "    tuplas = sorted(tuplas, key=lambda x: x[0])\n",
    "\n",
    "    variables = [[] for _ in range(len(tuplas))]\n",
    "\n",
    "    # Itera sobre los elementos de las tuplas\n",
    "    for i in range(len(tuplas[0])):\n",
    "        valores = [t[i] for t in tuplas]\n",
    "\n",
    "        for j, valor in enumerate(valores):\n",
    "            variables[j].append(valor)\n",
    "\n",
    "    #Obtencion de meses maximo\n",
    "    total_meses = 0\n",
    "    suple_var = 0\n",
    "    periodos = []\n",
    "    for var in variables:\n",
    "        periodos.append(var[0])\n",
    "        if var[0] > total_meses:\n",
    "            total_meses = var[0]\n",
    "    \n",
    "    \n",
    "    #Cuota por meses\n",
    "    gasto_x_mes = []\n",
    "    for i in range(total_meses):\n",
    "        for var in variables:\n",
    "            if i < var[0]:\n",
    "                spl = round((var[1]/var[0])/n_propie, 2)\n",
    "                suple_var += spl\n",
    "        gasto_x_mes.append(suple_var)\n",
    "        suple_var = 0\n",
    "    \n",
    "    #Resultado\n",
    "    cuotas_total = []\n",
    "    \n",
    "    for i in periodos:\n",
    "        cuotas_total.append(math.ceil(gasto_x_mes[i -1] + cuota))\n",
    "\n",
    "    return cuotas_total\n",
    "\n",
    "\n",
    "app = Flask(__name__)\n",
    "\n",
    "\n",
    "@app.route('/', methods=['GET'])\n",
    "def Hello():\n",
    "    return 'Hello to the DS API'\n",
    "\n",
    "\n",
    "@app.route('/calculadora', methods=['POST'])\n",
    "def suma():\n",
    "\n",
    "    data = request.json\n",
    "\n",
    "    cuota_actual = data['cuota']\n",
    "    n_propie = data['n_propietarios']\n",
    "    ahorro = data['ahorro']\n",
    "    fondos_iniciales = data['fondos']\n",
    "    anios = data['anios']\n",
    "\n",
    "    tiempo = anios * 12\n",
    "    gasto_real = ahorro - fondos_iniciales \n",
    "    suplemento = (gasto_real/tiempo)/n_propie\n",
    "    resultado = cuota_actual + ((gasto_real/tiempo)/n_propie)\n",
    "\n",
    "\n",
    "\n",
    "    return jsonify({'Nueva cuota': resultado})\n",
    "\n",
    "\n",
    "@app.route('/calculadora_previ', methods=['POST'])\n",
    "def calculadora_prevision():\n",
    "\n",
    "    data = request.json\n",
    "\n",
    "    tuplas = [(item['meses'], item['monto']) for item in data.get('tuplas', [])]\n",
    "    n_propie = int(data['n_propietarios'])\n",
    "    cuota = int(data['cuota'])\n",
    "\n",
    "    output = calculo_prev(*tuplas, n_propie=n_propie, cuota=cuota)\n",
    "\n",
    "    return jsonify({'Nueva/s cuota/s': output})\n",
    "\n",
    "\n",
    "\n",
    "if __name__ == \"__main__\":\n",
    "    app.run(debug=True, port=8000)"
   ]
  },
  {
   "cell_type": "markdown",
   "metadata": {},
   "source": []
  },
  {
   "cell_type": "markdown",
   "metadata": {},
   "source": [
    "<a id=\"ch4\"></a>\n",
    "## 4. Deploying the app in FL0 and documenting the API"
   ]
  },
  {
   "cell_type": "markdown",
   "metadata": {},
   "source": [
    "\n",
    "API = https://fl0-dev-tdfm.1.us-1.fl0.io//calculadora_previ\n",
    "\n",
    "\n",
    "FUTURE EXPENSES:\n",
    "\n",
    "```\n",
    "{\n",
    "  \"tuplas\": [\n",
    "    {\"años\": 1, \"monto\": 1000},\n",
    "    {\"años\": 3, \"monto\": 3000},\n",
    "    {\"años\": 5, \"monto\": 5000}\n",
    "\n",
    "  ],\n",
    "  \"n_propietarios\": 6,\n",
    "  \"cuota\": 50\n",
    "}\n",
    "```\n",
    "\n",
    "\n",
    "It returns the amount that each neighbor has to pay per month to cover each anticipated expense until the year of payment arrives.\n",
    "\n",
    "It will return something similar to this:\n",
    "\n",
    "```\n",
    "{\n",
    "    \"Nueva/s cuota/s\": 45.84\n",
    "}\n",
    "```\n"
   ]
  },
  {
   "cell_type": "markdown",
   "metadata": {},
   "source": []
  },
  {
   "cell_type": "markdown",
   "metadata": {},
   "source": []
  }
 ],
 "metadata": {
  "kernelspec": {
   "display_name": "eda_env",
   "language": "python",
   "name": "python3"
  },
  "language_info": {
   "codemirror_mode": {
    "name": "ipython",
    "version": 3
   },
   "file_extension": ".py",
   "mimetype": "text/x-python",
   "name": "python",
   "nbconvert_exporter": "python",
   "pygments_lexer": "ipython3",
   "version": "3.9.18"
  }
 },
 "nbformat": 4,
 "nbformat_minor": 2
}
